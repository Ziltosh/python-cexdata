{
 "cells": [
  {
   "cell_type": "markdown",
   "metadata": {},
   "source": [
    "# Utilisation"
   ]
  },
  {
   "cell_type": "code",
   "execution_count": 2,
   "metadata": {},
   "outputs": [
    {
     "name": "stdout",
     "output_type": "stream",
     "text": [
      "\tRécupération pour la paire BTC/USDT en timeframe 1d sur le CEX binance\n",
      "\tDonnées déjà récupérées\n",
      "\tRécupération pour la paire ETH/USDT en timeframe 1d sur le CEX binance\n",
      "\tDonnées déjà récupérées\n",
      "\tRécupération pour la paire BTC/USDT en timeframe 1h sur le CEX binance\n",
      "\tDonnées déjà récupérées\n",
      "\tRécupération pour la paire ETH/USDT en timeframe 1h sur le CEX binance\n",
      "\tDonnées déjà récupérées\n",
      "\tRécupération pour la paire BTC/USD en timeframe 1d sur le CEX ftx\n",
      "\tTéléchargement des données\n"
     ]
    },
    {
     "data": {
      "application/vnd.jupyter.widget-view+json": {
       "model_id": "8daa03f484a84ac7a97e69bb27a89af9",
       "version_major": 2,
       "version_minor": 0
      },
      "text/plain": [
       "  0%|          | 0/1 [00:00<?, ?it/s]"
      ]
     },
     "metadata": {},
     "output_type": "display_data"
    },
    {
     "name": "stdout",
     "output_type": "stream",
     "text": [
      "\tRécupération pour la paire ETH/USD en timeframe 1d sur le CEX ftx\n",
      "\tTéléchargement des données\n"
     ]
    },
    {
     "data": {
      "application/vnd.jupyter.widget-view+json": {
       "model_id": "a0294d7633934afca5389f4d36f6604c",
       "version_major": 2,
       "version_minor": 0
      },
      "text/plain": [
       "  0%|          | 0/1 [00:00<?, ?it/s]"
      ]
     },
     "metadata": {},
     "output_type": "display_data"
    },
    {
     "name": "stdout",
     "output_type": "stream",
     "text": [
      "\tRécupération pour la paire BTC/USD en timeframe 1h sur le CEX ftx\n",
      "\tTéléchargement des données\n"
     ]
    },
    {
     "data": {
      "application/vnd.jupyter.widget-view+json": {
       "model_id": "e08e11f1c3e647c58d9febf40d1601b6",
       "version_major": 2,
       "version_minor": 0
      },
      "text/plain": [
       "  0%|          | 0/9 [00:00<?, ?it/s]"
      ]
     },
     "metadata": {},
     "output_type": "display_data"
    },
    {
     "name": "stdout",
     "output_type": "stream",
     "text": [
      "\tRécupération pour la paire ETH/USD en timeframe 1h sur le CEX ftx\n",
      "\tTéléchargement des données\n"
     ]
    },
    {
     "data": {
      "application/vnd.jupyter.widget-view+json": {
       "model_id": "dd34d2de59c2495c92c588ed568c5639",
       "version_major": 2,
       "version_minor": 0
      },
      "text/plain": [
       "  0%|          | 0/9 [00:00<?, ?it/s]"
      ]
     },
     "metadata": {},
     "output_type": "display_data"
    }
   ],
   "source": [
    "from cexdata import CexData\n",
    "\n",
    "cex = CexData(\"binance\")\n",
    "\n",
    "await cex.download_data(coins=[\"BTC-USD\", \"ETH-USD\"], intervals=[\"1d\", \"1h\"], end_date=\"2022-01-01 00:00:00\")\n",
    "\n",
    "cex = CexData(\"ftx\")\n",
    "\n",
    "await cex.download_data(coins=[\"BTC-USD\", \"ETH-USD\"], intervals=[\"1d\", \"1h\"], end_date=\"2022-01-01 00:00:00\")\n"
   ]
  }
 ],
 "metadata": {
  "interpreter": {
   "hash": "5fb7f81003518aaae9e5fb0c94b1c553d29fcfa86ba849693c060f5b55247918"
  },
  "kernelspec": {
   "display_name": "Python 3.9.12 ('.venv': venv)",
   "language": "python",
   "name": "python3"
  },
  "language_info": {
   "codemirror_mode": {
    "name": "ipython",
    "version": 3
   },
   "file_extension": ".py",
   "mimetype": "text/x-python",
   "name": "python",
   "nbconvert_exporter": "python",
   "pygments_lexer": "ipython3",
   "version": "3.9.12"
  },
  "orig_nbformat": 4
 },
 "nbformat": 4,
 "nbformat_minor": 2
}
